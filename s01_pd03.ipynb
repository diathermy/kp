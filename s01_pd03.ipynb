{
 "cells": [
  {
   "cell_type": "markdown",
   "metadata": {},
   "source": [
    "#### Wykonaną pracę domową wrzucamy na swojego GitHuba, repo: kp, nazwa pliku s01_pd03.ipynb. Obrazek, nazwa pliku: s01_pd03.png.\n",
    "\n",
    "##### Deadline: 2.12.2017\n",
    "\n",
    "##### Inne ważne rzeczy do ogarnięcia:\n",
    "\n",
    "1. Konto na Githubie - czekam na informację z loginem do 28.11;\n",
    "2. Wyzwanie grupowe - deadline to niedziela, 3.12. Na spotkaniu analizujemy najlepsze funkcje eurolotek() i idziemy dalej z materiałem."
   ]
  },
  {
   "cell_type": "markdown",
   "metadata": {},
   "source": [
    "##### Numpy"
   ]
  },
  {
   "cell_type": "code",
   "execution_count": 1,
   "metadata": {
    "collapsed": true
   },
   "outputs": [],
   "source": [
    "#zaimportuj odpowiedni pakiet do pracy z wektorami i macierzami\n",
    "import numpy as np"
   ]
  },
  {
   "cell_type": "code",
   "execution_count": 2,
   "metadata": {
    "collapsed": false
   },
   "outputs": [
    {
     "data": {
      "text/plain": [
       "array([  1,   2,  -3,   6,   7, -10,  88,  43, -98,  17,  39,  45])"
      ]
     },
     "execution_count": 2,
     "metadata": {},
     "output_type": "execute_result"
    }
   ],
   "source": [
    "#wektor ar\n",
    "ar = np.array([1,2,-3,6,7,-10,88,43,-98,17,39,45])\n",
    "ar"
   ]
  },
  {
   "cell_type": "code",
   "execution_count": 3,
   "metadata": {
    "collapsed": false
   },
   "outputs": [
    {
     "data": {
      "text/plain": [
       "array([  1,   2,  -3,   6,   7, -10,  88,  43, -98,  17,  39,  45,   4,\n",
       "         5,   9,  10,  23, -14,  55,  13])"
      ]
     },
     "execution_count": 3,
     "metadata": {},
     "output_type": "execute_result"
    }
   ],
   "source": [
    "#doklej do wektora ar wartości [4,5,9,10,23,-14,55,13]\n",
    "\n",
    "ar2 = np.array([4,5,9,10,23,-14,55,13])\n",
    "ar3 = np.append(ar, ar2)\n",
    "ar3"
   ]
  },
  {
   "cell_type": "code",
   "execution_count": 4,
   "metadata": {
    "collapsed": false
   },
   "outputs": [
    {
     "data": {
      "text/plain": [
       "14"
      ]
     },
     "execution_count": 4,
     "metadata": {},
     "output_type": "execute_result"
    }
   ],
   "source": [
    "#znajdz index dla wartości 9 - użyj odpowiedniej funkcji\n",
    "np.where(ar3 == 9)[0][0]\n"
   ]
  },
  {
   "cell_type": "code",
   "execution_count": 5,
   "metadata": {
    "collapsed": false
   },
   "outputs": [
    {
     "data": {
      "text/plain": [
       "array([ 2,  5,  8, 17], dtype=int64)"
      ]
     },
     "execution_count": 5,
     "metadata": {},
     "output_type": "execute_result"
    }
   ],
   "source": [
    "#znajdź indeksy dla wartości mniejszych od zera - użyj odpowiedniej funkcji\n",
    "np.where(ar3 < 0)[0][:]"
   ]
  },
  {
   "cell_type": "code",
   "execution_count": 6,
   "metadata": {
    "collapsed": false
   },
   "outputs": [
    {
     "data": {
      "text/plain": [
       "array([ -3, -10, -98, -14])"
      ]
     },
     "execution_count": 6,
     "metadata": {},
     "output_type": "execute_result"
    }
   ],
   "source": [
    "#wyświetl wartości mniejsze od zera\n",
    "\n",
    "mniejsze_od_zera = [ 2,  5,  8, 17]\n",
    "ar3[mniejsze_od_zera]"
   ]
  },
  {
   "cell_type": "code",
   "execution_count": 7,
   "metadata": {
    "collapsed": false
   },
   "outputs": [
    {
     "data": {
      "text/plain": [
       "12.1"
      ]
     },
     "execution_count": 7,
     "metadata": {},
     "output_type": "execute_result"
    }
   ],
   "source": [
    "#policz średnią, zaokrąglij do jednego miejsca po przecinku\n",
    "np.mean(ar3)"
   ]
  },
  {
   "cell_type": "code",
   "execution_count": 8,
   "metadata": {
    "collapsed": false
   },
   "outputs": [
    {
     "data": {
      "text/plain": [
       "array([ 1,  2,  3,  6,  7, 10, 88, 43, 98, 17, 39, 45])"
      ]
     },
     "execution_count": 8,
     "metadata": {},
     "output_type": "execute_result"
    }
   ],
   "source": [
    "#stwórz zmienną ar_abs, wektor wartości bezwględnych z wektora ar\n",
    "ar_abs = np.abs(ar)\n",
    "ar_abs"
   ]
  },
  {
   "cell_type": "code",
   "execution_count": 9,
   "metadata": {
    "collapsed": false
   },
   "outputs": [
    {
     "data": {
      "text/plain": [
       "array([ 1.        ,  1.25992105,  1.44224957,  1.81712059,  1.91293118,\n",
       "        2.15443469,  4.44796018,  3.50339806,  4.61043629,  2.57128159,\n",
       "        3.39121144,  3.5568933 ])"
      ]
     },
     "execution_count": 9,
     "metadata": {},
     "output_type": "execute_result"
    }
   ],
   "source": [
    "#stwórz zmienną ar_p, wektor pierwiastków trzeciego stopnia z wektora ar_abs\n",
    "ar_p = np.cbrt(ar_abs)\n",
    "ar_p"
   ]
  },
  {
   "cell_type": "code",
   "execution_count": 10,
   "metadata": {
    "collapsed": false
   },
   "outputs": [
    {
     "data": {
      "text/plain": [
       "array([ 1.  ,  1.26,  1.44,  1.82,  1.91,  2.15,  4.45,  3.5 ,  4.61,\n",
       "        2.57,  3.39,  3.56])"
      ]
     },
     "execution_count": 10,
     "metadata": {},
     "output_type": "execute_result"
    }
   ],
   "source": [
    "#zaokrąglij wektor ar_p do dwóch miejsc po przecinku\n",
    "ar_p_z = np.round(ar_p, 2)\n",
    "ar_p_z"
   ]
  },
  {
   "cell_type": "code",
   "execution_count": 12,
   "metadata": {
    "collapsed": false
   },
   "outputs": [
    {
     "data": {
      "text/plain": [
       "1002"
      ]
     },
     "execution_count": 12,
     "metadata": {},
     "output_type": "execute_result"
    }
   ],
   "source": [
    "#zsumuj zaokrąglony wektor ar_p i podnieś go do kwadratu, \n",
    "#zmienną nazwij ar_sq, zmień typ tej zmiennej na liczbę całkowitą\n",
    "ar_sq = np.power((np.sum(ar_p_z)), 2)\n",
    "ar_sq.astype(np.int64)"
   ]
  },
  {
   "cell_type": "markdown",
   "metadata": {},
   "source": [
    "##### Mini wyzwanie - praca indywidualna!"
   ]
  },
  {
   "cell_type": "code",
   "execution_count": 1,
   "metadata": {
    "collapsed": true
   },
   "outputs": [],
   "source": [
    "import pandas as pd\n",
    "import numpy as np\n",
    "import matplotlib.pyplot as plt"
   ]
  },
  {
   "cell_type": "markdown",
   "metadata": {},
   "source": [
    "###### Podpowiedź: Do wczytania csv potrzebna Wam będzie funkcja z pakietu pandas - reszty nie mówię. Kombinujcie!"
   ]
  },
  {
   "cell_type": "code",
   "execution_count": 2,
   "metadata": {
    "collapsed": true
   },
   "outputs": [],
   "source": [
    "dane = 'https://raw.githubusercontent.com/kpswps/py/master/prace_domowe/s01_pd03.csv'"
   ]
  },
  {
   "cell_type": "code",
   "execution_count": 5,
   "metadata": {
    "collapsed": true
   },
   "outputs": [],
   "source": []
  },
  {
   "cell_type": "code",
   "execution_count": 15,
   "metadata": {
    "collapsed": false
   },
   "outputs": [
    {
     "data": {
      "text/html": [
       "<div>\n",
       "<table border=\"1\" class=\"dataframe\">\n",
       "  <thead>\n",
       "    <tr style=\"text-align: right;\">\n",
       "      <th></th>\n",
       "      <th>salary</th>\n",
       "      <th>happiness</th>\n",
       "    </tr>\n",
       "  </thead>\n",
       "  <tbody>\n",
       "    <tr>\n",
       "      <th>0</th>\n",
       "      <td>5222</td>\n",
       "      <td>94</td>\n",
       "    </tr>\n",
       "    <tr>\n",
       "      <th>1</th>\n",
       "      <td>3158</td>\n",
       "      <td>90</td>\n",
       "    </tr>\n",
       "    <tr>\n",
       "      <th>2</th>\n",
       "      <td>4973</td>\n",
       "      <td>68</td>\n",
       "    </tr>\n",
       "    <tr>\n",
       "      <th>3</th>\n",
       "      <td>7048</td>\n",
       "      <td>68</td>\n",
       "    </tr>\n",
       "    <tr>\n",
       "      <th>4</th>\n",
       "      <td>9407</td>\n",
       "      <td>75</td>\n",
       "    </tr>\n",
       "  </tbody>\n",
       "</table>\n",
       "</div>"
      ],
      "text/plain": [
       "   salary  happiness\n",
       "0    5222         94\n",
       "1    3158         90\n",
       "2    4973         68\n",
       "3    7048         68\n",
       "4    9407         75"
      ]
     },
     "execution_count": 15,
     "metadata": {},
     "output_type": "execute_result"
    }
   ],
   "source": [
    "data = pd.read_csv('s01_pd03.csv', sep=';')\n",
    "data.head()"
   ]
  },
  {
   "cell_type": "code",
   "execution_count": 16,
   "metadata": {
    "collapsed": false
   },
   "outputs": [
    {
     "data": {
      "text/plain": [
       "0       5222\n",
       "1       3158\n",
       "2       4973\n",
       "3       7048\n",
       "4       9407\n",
       "5       7850\n",
       "6       6687\n",
       "7       8273\n",
       "8       7679\n",
       "9       6670\n",
       "10      4027\n",
       "11      6012\n",
       "12      7393\n",
       "13      6347\n",
       "14      6778\n",
       "15      9718\n",
       "16      7135\n",
       "17      6836\n",
       "18      7261\n",
       "19      6511\n",
       "20      8610\n",
       "21      6489\n",
       "22      8281\n",
       "23      7800\n",
       "24      8367\n",
       "25      4977\n",
       "26      5366\n",
       "27      6747\n",
       "28      7357\n",
       "29      5951\n",
       "       ...  \n",
       "470     5467\n",
       "471     4225\n",
       "472     2814\n",
       "473    10530\n",
       "474     6870\n",
       "475     6981\n",
       "476     4578\n",
       "477     4917\n",
       "478     4906\n",
       "479     4404\n",
       "480     8963\n",
       "481     7361\n",
       "482     5740\n",
       "483     7284\n",
       "484     5772\n",
       "485     5246\n",
       "486     6289\n",
       "487     5617\n",
       "488     8730\n",
       "489     9497\n",
       "490     7300\n",
       "491     9004\n",
       "492     5894\n",
       "493     9144\n",
       "494     8393\n",
       "495     6291\n",
       "496     4888\n",
       "497     5435\n",
       "498     9031\n",
       "499     5543\n",
       "Name: salary, dtype: int64"
      ]
     },
     "execution_count": 16,
     "metadata": {},
     "output_type": "execute_result"
    }
   ],
   "source": [
    "data['salary']"
   ]
  },
  {
   "cell_type": "code",
   "execution_count": 20,
   "metadata": {
    "collapsed": false
   },
   "outputs": [],
   "source": [
    "%matplotlib inline"
   ]
  },
  {
   "cell_type": "code",
   "execution_count": 21,
   "metadata": {
    "collapsed": false
   },
   "outputs": [
    {
     "data": {
      "text/plain": [
       "[<matplotlib.lines.Line2D at 0x1bd37e074a8>]"
      ]
     },
     "execution_count": 21,
     "metadata": {},
     "output_type": "execute_result"
    },
    {
     "data": {
      "image/png": "[encoded data removed]",
      "text/plain": [
       "<matplotlib.figure.Figure at 0x1bd37896320>"
      ]
     },
     "metadata": {},
     "output_type": "display_data"
    }
   ],
   "source": [
    "plt.plot(data['salary'], data['happiness'])"
   ]
  },
  {
   "cell_type": "code",
   "execution_count": 22,
   "metadata": {
    "collapsed": true
   },
   "outputs": [],
   "source": [
    "x = data['salary']\n",
    "y = data['happiness']"
   ]
  },
  {
   "cell_type": "markdown",
   "metadata": {},
   "source": [
    "#### Zrób taki oto piękny wykres. Co trzeba zrobić:\n",
    "1. Tytuł wykresu: Szczęście a zarobki w złotych;\n",
    "2. Nazwa na osi x: Zarobki w złotych;\n",
    "3. Nazwa na osi y: Szczęście mierzone kwestionariuszem;\n",
    "4. Skala na osi x: od 0 do 105;\n",
    "5. Skala na osi y: od 0 do 14000;\n",
    "6. Grupka czerwona: Bardzo szczęśliwi (szczęście powyżej 80pkt), styl: kropeczka (point marker);\n",
    "7. Grupka niebieska: Raczej szczęśliwi (szczęście powyżej 60, do 80), styl: pentagon marker;\n",
    "8. Grupka pomarańczowa: Raczej nieszczęśliwi (szczęście powyżej 40, do 60), styl: thin diamond marker;\n",
    "9. Grupka zielona: Bardzo nieszczęśliwi (do 40 pkt), styl: triangle left marker.\n",
    "10. Legenda\n",
    "\n",
    "##### Jak już wszystko pięknie zadziała, zapisujemy wykres jako obrazek, nazwa: s01_pd03.png - wrzucamy na githuba."
   ]
  },
  {
   "cell_type": "code",
   "execution_count": 25,
   "metadata": {
    "collapsed": true
   },
   "outputs": [],
   "source": [
    "BS = y > 80\n",
    "RS = [(y > 60) & (y < 80)]\n",
    "RN = [(y > 40) & (y < 60)]\n",
    "BN = y < 40"
   ]
  },
  {
   "cell_type": "code",
   "execution_count": 50,
   "metadata": {
    "collapsed": false
   },
   "outputs": [
    {
     "data": {
      "image/png": "[encoded data removed]",
      "text/plain": [
       "<matplotlib.figure.Figure at 0x1bd391b8d30>"
      ]
     },
     "metadata": {},
     "output_type": "display_data"
    }
   ],
   "source": [
    "plt.plot(x[BS], y[BS], '.', color = 'red',  label = 'Bardzo szczęśliwi')\n",
    "\n",
    "plt.plot(x[(y > 60) & (y < 80)], y[(y > 60) & (y < 80)], 'p', color = 'blue',  label = 'Raczej szczęśliwi')\n",
    "\n",
    "plt.plot(x[(y > 40) & (y < 60)], y[(y > 40) & (y < 60)], 'D', color = 'orange',  label = 'Raczej nieszczęśliwi')\n",
    "\n",
    "plt.plot(x[BN], y[BN], '<', color = 'green',  label = 'Bardzo nieszczęśliwi')\n",
    "\n",
    "plt.title('Szczęście a zarobki w złotych')\n",
    "plt.ylabel('Szczęście mierzone kwestionariuszem')\n",
    "plt.xlabel('Zarobki w złotych')\n",
    "\n",
    "plt.xlim([0,14000])\n",
    "plt.ylim([0, 105])\n",
    "\n",
    "plt.legend()\n",
    "\n",
    "plt.savefig('s01_pd03.png')"
   ]
  },
  {
   "cell_type": "code",
   "execution_count": null,
   "metadata": {
    "collapsed": true
   },
   "outputs": [],
   "source": []
  }
 ],
 "metadata": {
  "kernelspec": {
   "display_name": "Python 3",
   "language": "python",
   "name": "python3"
  },
  "language_info": {
   "codemirror_mode": {
    "name": "ipython",
    "version": 3
   },
   "file_extension": ".py",
   "mimetype": "text/x-python",
   "name": "python",
   "nbconvert_exporter": "python",
   "pygments_lexer": "ipython3",
   "version": "3.6.0"
  }
 },
 "nbformat": 4,
 "nbformat_minor": 2
}
